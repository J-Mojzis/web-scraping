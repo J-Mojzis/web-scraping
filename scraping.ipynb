{
 "cells": [
  {
   "cell_type": "code",
   "execution_count": 1,
   "id": "1670851e-6331-4f4d-9d08-b1f4768a1f26",
   "metadata": {},
   "outputs": [],
   "source": [
    "import pickle\n",
    "import time\n",
    "from bs4 import BeautifulSoup\n",
    "from selenium import webdriver\n",
    "from selenium.webdriver.chrome.service import Service\n",
    "from webdriver_manager.chrome import ChromeDriverManager\n",
    "from selenium.webdriver.common.by import By\n",
    "from selenium.webdriver.common.action_chains import ActionChains\n",
    "from selenium.webdriver.support.ui import WebDriverWait\n",
    "from selenium.webdriver.support import expected_conditions as EC"
   ]
  },
  {
   "cell_type": "code",
   "execution_count": 2,
   "id": "a3ea6835-6c3a-4316-a936-37951330c500",
   "metadata": {},
   "outputs": [],
   "source": [
    "\n",
    "# File path to store cookies\n",
    "cookie_file_path = \"cookies.pkl\"\n",
    "\n",
    "# Chrome options for headless mode and resource blocking\n",
    "options = webdriver.ChromeOptions()\n",
    "options.add_argument(\"--headless\")\n",
    "options.add_argument(\"--no-sandbox\")\n",
    "options.add_argument(\"--disable-dev-shm-usage\")\n",
    "options.add_experimental_option(\"prefs\", {\"profile.managed_default_content_settings.images\": 2})\n",
    "\n",
    "# Initialize the Chrome WebDriver\n",
    "driver = webdriver.Chrome(service=Service(ChromeDriverManager().install()),options=options)\n",
    "\n",
    "# Function to save cookies after accepting them\n",
    "def save_cookies(driver, path):\n",
    "    with open(path, \"wb\") as file:\n",
    "        pickle.dump(driver.get_cookies(), file)\n",
    "    print(\"Cookies saved.\")\n",
    "\n",
    "# Function to load cookies\n",
    "def load_cookies(driver, path):\n",
    "    try:\n",
    "        with open(path, \"rb\") as file:\n",
    "            cookies = pickle.load(file)\n",
    "            for cookie in cookies:\n",
    "                driver.add_cookie(cookie)\n",
    "        print(\"Cookies loaded.\")\n",
    "    except FileNotFoundError:\n",
    "        print(\"Cookie file not found. Proceeding without loading cookies.\")\n",
    "\n"
   ]
  },
  {
   "cell_type": "code",
   "execution_count": 3,
   "id": "5f493fe5-71f4-402e-a856-2ab7c7d37840",
   "metadata": {},
   "outputs": [],
   "source": [
    "driver.get(\"https://finance.yahoo.com/quote/GC%3DF/\")\n",
    "time.sleep(3)  # Wait for page to load fully\n",
    "cookies_loaded = False"
   ]
  },
  {
   "cell_type": "code",
   "execution_count": 4,
   "id": "493d6a33-c1c2-4a56-9a53-bccbc89e883b",
   "metadata": {},
   "outputs": [
    {
     "name": "stdout",
     "output_type": "stream",
     "text": [
      "Error loading cookies: Message: invalid cookie domain: Cookie 'domain' mismatch\n",
      "  (Session info: chrome=130.0.6723.92)\n",
      "Stacktrace:\n",
      "0   chromedriver                        0x000000010061f648 cxxbridge1$str$ptr + 3645404\n",
      "1   chromedriver                        0x0000000100617ea8 cxxbridge1$str$ptr + 3614780\n",
      "2   chromedriver                        0x0000000100084104 cxxbridge1$string$len + 88416\n",
      "3   chromedriver                        0x000000010010ea64 cxxbridge1$string$len + 656064\n",
      "4   chromedriver                        0x00000001000ffbd0 cxxbridge1$string$len + 594988\n",
      "5   chromedriver                        0x00000001000baf54 cxxbridge1$string$len + 313264\n",
      "6   chromedriver                        0x00000001000bbba4 cxxbridge1$string$len + 316416\n",
      "7   chromedriver                        0x00000001005ea1e8 cxxbridge1$str$ptr + 3427196\n",
      "8   chromedriver                        0x00000001005ed52c cxxbridge1$str$ptr + 3440320\n",
      "9   chromedriver                        0x00000001005d160c cxxbridge1$str$ptr + 3325856\n",
      "10  chromedriver                        0x00000001005eddf0 cxxbridge1$str$ptr + 3442564\n",
      "11  chromedriver                        0x00000001005c2890 cxxbridge1$str$ptr + 3265060\n",
      "12  chromedriver                        0x0000000100608898 cxxbridge1$str$ptr + 3551788\n",
      "13  chromedriver                        0x0000000100608a14 cxxbridge1$str$ptr + 3552168\n",
      "14  chromedriver                        0x0000000100617b40 cxxbridge1$str$ptr + 3613908\n",
      "15  libsystem_pthread.dylib             0x0000000192ebf2e4 _pthread_start + 136\n",
      "16  libsystem_pthread.dylib             0x0000000192eba0fc thread_start + 8\n",
      "\n"
     ]
    }
   ],
   "source": [
    "# Step 1: Open the page and check if cookies file exists\n",
    "try:\n",
    "    # Load cookies if they exist\n",
    "    load_cookies(driver, cookie_file_path)\n",
    "    cookies_loaded = True  # Cookies were successfully loaded\n",
    "    print(\"Cookies were loaded, skipping cookie acceptance.\")\n",
    "    driver.refresh()  # Refresh the page to apply loaded cookies\n",
    "except Exception as e:\n",
    "    print(\"Error loading cookies:\", e)\n",
    "    cookies_loaded = False\n"
   ]
  },
  {
   "cell_type": "code",
   "execution_count": 5,
   "id": "5b54e2fa-653a-4999-89e6-6f958844f35d",
   "metadata": {},
   "outputs": [
    {
     "name": "stdout",
     "output_type": "stream",
     "text": [
      "Clicked on the cookie acceptance button.\n",
      "Cookies saved.\n"
     ]
    }
   ],
   "source": [
    "# Step 2: If no cookies were loaded (e.g., first visit), accept cookies manually and save them\n",
    "if not cookies_loaded: \n",
    "    try:\n",
    "        accept_button = WebDriverWait(driver, 5).until(\n",
    "            EC.element_to_be_clickable((By.XPATH, \"//button[contains(text(), 'Accept all')]\"))\n",
    "        )\n",
    "        accept_button.click()\n",
    "        print(\"Clicked on the cookie acceptance button.\")\n",
    "        time.sleep(2)  # Wait for cookies to be set\n",
    "        save_cookies(driver, cookie_file_path)  # Save cookies for future use\n",
    "    except Exception as e:\n",
    "        print(\"Cookie acceptance button not found or already accepted:\", e)\n"
   ]
  },
  {
   "cell_type": "code",
   "execution_count": 6,
   "id": "a6b9674a-a7d3-454b-8dc8-e5154664e64a",
   "metadata": {},
   "outputs": [
    {
     "name": "stdout",
     "output_type": "stream",
     "text": [
      "<html lang=\"en-US\" theme=\"light\" data-color-scheme=\"light\" class=\"desktop neo-green dock-upscale\" ciq-last-interaction=\"\"><head>\n",
      "        <meta charset=\"utf-8\">\n",
      "        <meta name=\"oath:guce:consent-host\" content=\"guce.yahoo.com\">\n",
      "        <link rel=\"preconnect\" href=\"//s.yimg.com\" crossorigin=\"anonymous\"><link rel=\"preconnect\" href=\"//geo.yahoo.com\"><link rel=\"preconnect\" href=\"//query1.finance.yahoo.com\"><link rel=\"preconnect\" href=\"//query2.finance.yahoo.com\"><link rel=\"preconnect\" href=\"//cons\n",
      "Hovered over the element to trigger dynamic content.\n",
      "Extracted values: ['11/1 07:08', '2,762.00', '2,760.80', '2,762.10', '2,760.60', '217']\n",
      "Last 10 values: ['11/1 07:08', '2,762.00', '2,760.80', '2,762.10', '2,760.60', '217']\n"
     ]
    }
   ],
   "source": [
    "# Proceed with scraping after handling cookies\n",
    "print(driver.page_source[0:500])  # Example: print the first 500 characters of the page source\n",
    "\n",
    "# Step 3: Simulate hover to trigger dynamic content\n",
    "try:\n",
    "    # Locate the element to hover over\n",
    "    element_to_hover = WebDriverWait(driver, 10).until(\n",
    "        EC.visibility_of_element_located((By.CSS_SELECTOR, \".chartContainer\"))  # Replace with  chartContainer stx-crosshair-cursor-on\n",
    "    )\n",
    "    \n",
    "    # Perform hover action\n",
    "    actions = ActionChains(driver)\n",
    "    actions.move_to_element(element_to_hover).perform()\n",
    "    print(\"Hovered over the element to trigger dynamic content.\")\n",
    "    \n",
    "    # Wait a moment to allow dynamic content to load\n",
    "    time.sleep(2)\n",
    "    \n",
    "    # Parse the page source with BeautifulSoup\n",
    "    soup = BeautifulSoup(driver.page_source, 'html.parser')\n",
    "    \n",
    "    # Extract tooltip values\n",
    "    results = soup.find_all('table', attrs={'class': 'hu-tooltip'})\n",
    "    all_values = []  # List to store all extracted values\n",
    "    if results:\n",
    "        first_result = results[0]\n",
    "        values = [td.text.strip() for td in first_result.find_all('td', class_='hu-tooltip-value')]\n",
    "        all_values.extend(values)  # Store the current extracted values\n",
    "        print(\"Extracted values:\", values)\n",
    "    else:\n",
    "        print(\"No tooltip tables found.\")\n",
    "\n",
    "    # Print the last 10 values if available\n",
    "    last_10_values = all_values[-10:] if len(all_values) >= 10 else all_values\n",
    "    print(\"Last 10 values:\", last_10_values)\n",
    "        \n",
    "except Exception as e:\n",
    "    print(\"Error during hover simulation or data extraction:\", e)\n",
    "\n",
    "# Close the driver when done\n",
    "driver.quit()"
   ]
  },
  {
   "cell_type": "code",
   "execution_count": null,
   "id": "932f239f-aee5-4ef8-8dda-963912475667",
   "metadata": {},
   "outputs": [],
   "source": []
  },
  {
   "cell_type": "raw",
   "id": "ee03d2b3-8a97-4e60-aa1d-6d4ba6c926dd",
   "metadata": {},
   "source": [
    "# Now proceed with your existing BeautifulSoup parsing\n",
    "results = soup.find_all('table', attrs={'class': 'hu-tooltip'})\n",
    "first_result = results[0]\n",
    "values = [td.text.strip() for td in first_result.find_all('td', class_='hu-tooltip-value')]\n",
    "\n",
    "print(values)  # This should now print any populated values in 'hu-tooltip-value' cells"
   ]
  },
  {
   "cell_type": "code",
   "execution_count": null,
   "id": "a432ea69-c7d5-4e41-99ec-48bd2a2b586d",
   "metadata": {},
   "outputs": [],
   "source": []
  }
 ],
 "metadata": {
  "kernelspec": {
   "display_name": "Python 3 (ipykernel)",
   "language": "python",
   "name": "python3"
  },
  "language_info": {
   "codemirror_mode": {
    "name": "ipython",
    "version": 3
   },
   "file_extension": ".py",
   "mimetype": "text/x-python",
   "name": "python",
   "nbconvert_exporter": "python",
   "pygments_lexer": "ipython3",
   "version": "3.12.4"
  }
 },
 "nbformat": 4,
 "nbformat_minor": 5
}
