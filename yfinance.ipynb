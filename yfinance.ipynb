{
 "cells": [
  {
   "cell_type": "code",
   "execution_count": 7,
   "id": "228e68d0-6b15-4429-94d1-cf333179d83c",
   "metadata": {},
   "outputs": [
    {
     "name": "stderr",
     "output_type": "stream",
     "text": [
      "[*********************100%***********************]  1 of 1 completed"
     ]
    },
    {
     "name": "stdout",
     "output_type": "stream",
     "text": [
      "Daten wurden erfolgreich in 'gold_futures_data.csv' gespeichert.\n"
     ]
    },
    {
     "name": "stderr",
     "output_type": "stream",
     "text": [
      "\n"
     ]
    }
   ],
   "source": [
    "import yfinance as yf\n",
    "import pandas as pd\n",
    "\n",
    "# Abrufen der Daten für Gold-Futures (Symbol: GC=F)\n",
    "symbol = 'GC=F'\n",
    "data = yf.download(symbol, start=\"2023-01-01\", end=\"2024-11-01\", interval=\"1h\")\n",
    "\n",
    "# Daten lokal als CSV speichern\n",
    "data.to_csv(\"gold_futures_data.csv\")\n",
    "print(\"Daten wurden erfolgreich in 'gold_futures_data.csv' gespeichert.\")"
   ]
  },
  {
   "cell_type": "code",
   "execution_count": null,
   "id": "e4276c62-5982-431b-af7d-60cdb0dc4934",
   "metadata": {},
   "outputs": [],
   "source": []
  }
 ],
 "metadata": {
  "kernelspec": {
   "display_name": "Python 3 (ipykernel)",
   "language": "python",
   "name": "python3"
  },
  "language_info": {
   "codemirror_mode": {
    "name": "ipython",
    "version": 3
   },
   "file_extension": ".py",
   "mimetype": "text/x-python",
   "name": "python",
   "nbconvert_exporter": "python",
   "pygments_lexer": "ipython3",
   "version": "3.12.4"
  }
 },
 "nbformat": 4,
 "nbformat_minor": 5
}
